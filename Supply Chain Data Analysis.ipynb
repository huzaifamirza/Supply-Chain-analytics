{
 "cells": [
  {
   "cell_type": "markdown",
   "id": "235f05c9",
   "metadata": {},
   "source": [
    "# Supply Chain Shipment Pricing Data - Data Analysis"
   ]
  },
  {
   "cell_type": "markdown",
   "id": "d4cdfd07",
   "metadata": {},
   "source": [
    "<h3>Importing libraries</h3>"
   ]
  },
  {
   "cell_type": "code",
   "execution_count": 1,
   "id": "82c70493",
   "metadata": {},
   "outputs": [],
   "source": [
    "import pandas as pd\n",
    "import numpy as np\n",
    "import matplotlib.pyplot as plt\n",
    "import seaborn as sns"
   ]
  },
  {
   "cell_type": "markdown",
   "id": "355bb9b0",
   "metadata": {},
   "source": [
    "<h3>Data Collection</h3>"
   ]
  },
  {
   "cell_type": "code",
   "execution_count": 2,
   "id": "756ab63e",
   "metadata": {},
   "outputs": [
    {
     "name": "stdout",
     "output_type": "stream",
     "text": [
      "Wait 1 secs.....\n",
      "Dataset Successfully Imported\n"
     ]
    }
   ],
   "source": [
    "print('Wait 1 secs.....')\n",
    "df = pd.read_csv('https://raw.githubusercontent.com/rajeevratan84/data-analyst-bootcamp/master/SCMS_Delivery_History_Dataset.csv')\n",
    "print('Dataset Successfully Imported')"
   ]
  },
  {
   "cell_type": "markdown",
   "id": "0f4ed9fe",
   "metadata": {},
   "source": [
    "<h3>Data Cleaning</h3>"
   ]
  },
  {
   "cell_type": "markdown",
   "id": "a515a7e8",
   "metadata": {},
   "source": [
    "<h5>size of the dataset</h5>"
   ]
  },
  {
   "cell_type": "code",
   "execution_count": 3,
   "id": "7c50c9b3",
   "metadata": {},
   "outputs": [
    {
     "data": {
      "text/plain": [
       "(10324, 33)"
      ]
     },
     "execution_count": 3,
     "metadata": {},
     "output_type": "execute_result"
    }
   ],
   "source": [
    "df.shape"
   ]
  },
  {
   "cell_type": "markdown",
   "id": "4cb1078d",
   "metadata": {},
   "source": [
    "<h5>first 5 rows</h5>"
   ]
  },
  {
   "cell_type": "code",
   "execution_count": 4,
   "id": "18806def",
   "metadata": {},
   "outputs": [
    {
     "data": {
      "text/html": [
       "<div>\n",
       "<style scoped>\n",
       "    .dataframe tbody tr th:only-of-type {\n",
       "        vertical-align: middle;\n",
       "    }\n",
       "\n",
       "    .dataframe tbody tr th {\n",
       "        vertical-align: top;\n",
       "    }\n",
       "\n",
       "    .dataframe thead th {\n",
       "        text-align: right;\n",
       "    }\n",
       "</style>\n",
       "<table border=\"1\" class=\"dataframe\">\n",
       "  <thead>\n",
       "    <tr style=\"text-align: right;\">\n",
       "      <th></th>\n",
       "      <th>ID</th>\n",
       "      <th>Project Code</th>\n",
       "      <th>PQ #</th>\n",
       "      <th>PO / SO #</th>\n",
       "      <th>ASN/DN #</th>\n",
       "      <th>Country</th>\n",
       "      <th>Managed By</th>\n",
       "      <th>Fulfill Via</th>\n",
       "      <th>Vendor INCO Term</th>\n",
       "      <th>Shipment Mode</th>\n",
       "      <th>...</th>\n",
       "      <th>Unit of Measure (Per Pack)</th>\n",
       "      <th>Line Item Quantity</th>\n",
       "      <th>Line Item Value</th>\n",
       "      <th>Pack Price</th>\n",
       "      <th>Unit Price</th>\n",
       "      <th>Manufacturing Site</th>\n",
       "      <th>First Line Designation</th>\n",
       "      <th>Weight (Kilograms)</th>\n",
       "      <th>Freight Cost (USD)</th>\n",
       "      <th>Line Item Insurance (USD)</th>\n",
       "    </tr>\n",
       "  </thead>\n",
       "  <tbody>\n",
       "    <tr>\n",
       "      <th>0</th>\n",
       "      <td>1</td>\n",
       "      <td>100-CI-T01</td>\n",
       "      <td>Pre-PQ Process</td>\n",
       "      <td>SCMS-4</td>\n",
       "      <td>ASN-8</td>\n",
       "      <td>Côte d'Ivoire</td>\n",
       "      <td>PMO - US</td>\n",
       "      <td>Direct Drop</td>\n",
       "      <td>EXW</td>\n",
       "      <td>Air</td>\n",
       "      <td>...</td>\n",
       "      <td>30</td>\n",
       "      <td>19</td>\n",
       "      <td>551.0</td>\n",
       "      <td>29.00</td>\n",
       "      <td>0.97</td>\n",
       "      <td>Ranbaxy Fine Chemicals LTD</td>\n",
       "      <td>Yes</td>\n",
       "      <td>13</td>\n",
       "      <td>780.34</td>\n",
       "      <td>NaN</td>\n",
       "    </tr>\n",
       "    <tr>\n",
       "      <th>1</th>\n",
       "      <td>3</td>\n",
       "      <td>108-VN-T01</td>\n",
       "      <td>Pre-PQ Process</td>\n",
       "      <td>SCMS-13</td>\n",
       "      <td>ASN-85</td>\n",
       "      <td>Vietnam</td>\n",
       "      <td>PMO - US</td>\n",
       "      <td>Direct Drop</td>\n",
       "      <td>EXW</td>\n",
       "      <td>Air</td>\n",
       "      <td>...</td>\n",
       "      <td>240</td>\n",
       "      <td>1000</td>\n",
       "      <td>6200.0</td>\n",
       "      <td>6.20</td>\n",
       "      <td>0.03</td>\n",
       "      <td>Aurobindo Unit III, India</td>\n",
       "      <td>Yes</td>\n",
       "      <td>358</td>\n",
       "      <td>4521.5</td>\n",
       "      <td>NaN</td>\n",
       "    </tr>\n",
       "    <tr>\n",
       "      <th>2</th>\n",
       "      <td>4</td>\n",
       "      <td>100-CI-T01</td>\n",
       "      <td>Pre-PQ Process</td>\n",
       "      <td>SCMS-20</td>\n",
       "      <td>ASN-14</td>\n",
       "      <td>Côte d'Ivoire</td>\n",
       "      <td>PMO - US</td>\n",
       "      <td>Direct Drop</td>\n",
       "      <td>FCA</td>\n",
       "      <td>Air</td>\n",
       "      <td>...</td>\n",
       "      <td>100</td>\n",
       "      <td>500</td>\n",
       "      <td>40000.0</td>\n",
       "      <td>80.00</td>\n",
       "      <td>0.80</td>\n",
       "      <td>ABBVIE GmbH &amp; Co.KG Wiesbaden</td>\n",
       "      <td>Yes</td>\n",
       "      <td>171</td>\n",
       "      <td>1653.78</td>\n",
       "      <td>NaN</td>\n",
       "    </tr>\n",
       "    <tr>\n",
       "      <th>3</th>\n",
       "      <td>15</td>\n",
       "      <td>108-VN-T01</td>\n",
       "      <td>Pre-PQ Process</td>\n",
       "      <td>SCMS-78</td>\n",
       "      <td>ASN-50</td>\n",
       "      <td>Vietnam</td>\n",
       "      <td>PMO - US</td>\n",
       "      <td>Direct Drop</td>\n",
       "      <td>EXW</td>\n",
       "      <td>Air</td>\n",
       "      <td>...</td>\n",
       "      <td>60</td>\n",
       "      <td>31920</td>\n",
       "      <td>127360.8</td>\n",
       "      <td>3.99</td>\n",
       "      <td>0.07</td>\n",
       "      <td>Ranbaxy, Paonta Shahib, India</td>\n",
       "      <td>Yes</td>\n",
       "      <td>1855</td>\n",
       "      <td>16007.06</td>\n",
       "      <td>NaN</td>\n",
       "    </tr>\n",
       "    <tr>\n",
       "      <th>4</th>\n",
       "      <td>16</td>\n",
       "      <td>108-VN-T01</td>\n",
       "      <td>Pre-PQ Process</td>\n",
       "      <td>SCMS-81</td>\n",
       "      <td>ASN-55</td>\n",
       "      <td>Vietnam</td>\n",
       "      <td>PMO - US</td>\n",
       "      <td>Direct Drop</td>\n",
       "      <td>EXW</td>\n",
       "      <td>Air</td>\n",
       "      <td>...</td>\n",
       "      <td>60</td>\n",
       "      <td>38000</td>\n",
       "      <td>121600.0</td>\n",
       "      <td>3.20</td>\n",
       "      <td>0.05</td>\n",
       "      <td>Aurobindo Unit III, India</td>\n",
       "      <td>Yes</td>\n",
       "      <td>7590</td>\n",
       "      <td>45450.08</td>\n",
       "      <td>NaN</td>\n",
       "    </tr>\n",
       "  </tbody>\n",
       "</table>\n",
       "<p>5 rows × 33 columns</p>\n",
       "</div>"
      ],
      "text/plain": [
       "   ID Project Code            PQ # PO / SO # ASN/DN #        Country  \\\n",
       "0   1   100-CI-T01  Pre-PQ Process    SCMS-4    ASN-8  Côte d'Ivoire   \n",
       "1   3   108-VN-T01  Pre-PQ Process   SCMS-13   ASN-85        Vietnam   \n",
       "2   4   100-CI-T01  Pre-PQ Process   SCMS-20   ASN-14  Côte d'Ivoire   \n",
       "3  15   108-VN-T01  Pre-PQ Process   SCMS-78   ASN-50        Vietnam   \n",
       "4  16   108-VN-T01  Pre-PQ Process   SCMS-81   ASN-55        Vietnam   \n",
       "\n",
       "  Managed By  Fulfill Via Vendor INCO Term Shipment Mode  ...  \\\n",
       "0   PMO - US  Direct Drop              EXW           Air  ...   \n",
       "1   PMO - US  Direct Drop              EXW           Air  ...   \n",
       "2   PMO - US  Direct Drop              FCA           Air  ...   \n",
       "3   PMO - US  Direct Drop              EXW           Air  ...   \n",
       "4   PMO - US  Direct Drop              EXW           Air  ...   \n",
       "\n",
       "  Unit of Measure (Per Pack) Line Item Quantity Line Item Value Pack Price  \\\n",
       "0                         30                 19           551.0      29.00   \n",
       "1                        240               1000          6200.0       6.20   \n",
       "2                        100                500         40000.0      80.00   \n",
       "3                         60              31920        127360.8       3.99   \n",
       "4                         60              38000        121600.0       3.20   \n",
       "\n",
       "  Unit Price             Manufacturing Site First Line Designation  \\\n",
       "0       0.97     Ranbaxy Fine Chemicals LTD                    Yes   \n",
       "1       0.03      Aurobindo Unit III, India                    Yes   \n",
       "2       0.80  ABBVIE GmbH & Co.KG Wiesbaden                    Yes   \n",
       "3       0.07  Ranbaxy, Paonta Shahib, India                    Yes   \n",
       "4       0.05      Aurobindo Unit III, India                    Yes   \n",
       "\n",
       "  Weight (Kilograms) Freight Cost (USD) Line Item Insurance (USD)  \n",
       "0                 13             780.34                       NaN  \n",
       "1                358             4521.5                       NaN  \n",
       "2                171            1653.78                       NaN  \n",
       "3               1855           16007.06                       NaN  \n",
       "4               7590           45450.08                       NaN  \n",
       "\n",
       "[5 rows x 33 columns]"
      ]
     },
     "execution_count": 4,
     "metadata": {},
     "output_type": "execute_result"
    }
   ],
   "source": [
    "df.head()"
   ]
  },
  {
   "cell_type": "markdown",
   "id": "46860bbd",
   "metadata": {},
   "source": [
    "<h5>bottom 5 rows</h5>"
   ]
  },
  {
   "cell_type": "code",
   "execution_count": 5,
   "id": "d4e9e6c0",
   "metadata": {},
   "outputs": [
    {
     "data": {
      "text/html": [
       "<div>\n",
       "<style scoped>\n",
       "    .dataframe tbody tr th:only-of-type {\n",
       "        vertical-align: middle;\n",
       "    }\n",
       "\n",
       "    .dataframe tbody tr th {\n",
       "        vertical-align: top;\n",
       "    }\n",
       "\n",
       "    .dataframe thead th {\n",
       "        text-align: right;\n",
       "    }\n",
       "</style>\n",
       "<table border=\"1\" class=\"dataframe\">\n",
       "  <thead>\n",
       "    <tr style=\"text-align: right;\">\n",
       "      <th></th>\n",
       "      <th>ID</th>\n",
       "      <th>Project Code</th>\n",
       "      <th>PQ #</th>\n",
       "      <th>PO / SO #</th>\n",
       "      <th>ASN/DN #</th>\n",
       "      <th>Country</th>\n",
       "      <th>Managed By</th>\n",
       "      <th>Fulfill Via</th>\n",
       "      <th>Vendor INCO Term</th>\n",
       "      <th>Shipment Mode</th>\n",
       "      <th>...</th>\n",
       "      <th>Unit of Measure (Per Pack)</th>\n",
       "      <th>Line Item Quantity</th>\n",
       "      <th>Line Item Value</th>\n",
       "      <th>Pack Price</th>\n",
       "      <th>Unit Price</th>\n",
       "      <th>Manufacturing Site</th>\n",
       "      <th>First Line Designation</th>\n",
       "      <th>Weight (Kilograms)</th>\n",
       "      <th>Freight Cost (USD)</th>\n",
       "      <th>Line Item Insurance (USD)</th>\n",
       "    </tr>\n",
       "  </thead>\n",
       "  <tbody>\n",
       "    <tr>\n",
       "      <th>10319</th>\n",
       "      <td>86818</td>\n",
       "      <td>103-ZW-T30</td>\n",
       "      <td>FPQ-15197</td>\n",
       "      <td>SO-50020</td>\n",
       "      <td>DN-4307</td>\n",
       "      <td>Zimbabwe</td>\n",
       "      <td>PMO - US</td>\n",
       "      <td>From RDC</td>\n",
       "      <td>N/A - From RDC</td>\n",
       "      <td>Truck</td>\n",
       "      <td>...</td>\n",
       "      <td>60</td>\n",
       "      <td>166571</td>\n",
       "      <td>599655.60</td>\n",
       "      <td>3.60</td>\n",
       "      <td>0.06</td>\n",
       "      <td>Mylan,  H-12 &amp; H-13, India</td>\n",
       "      <td>No</td>\n",
       "      <td>See DN-4307 (ID#:83920)</td>\n",
       "      <td>See DN-4307 (ID#:83920)</td>\n",
       "      <td>705.79</td>\n",
       "    </tr>\n",
       "    <tr>\n",
       "      <th>10320</th>\n",
       "      <td>86819</td>\n",
       "      <td>104-CI-T30</td>\n",
       "      <td>FPQ-15259</td>\n",
       "      <td>SO-50102</td>\n",
       "      <td>DN-4313</td>\n",
       "      <td>Côte d'Ivoire</td>\n",
       "      <td>PMO - US</td>\n",
       "      <td>From RDC</td>\n",
       "      <td>N/A - From RDC</td>\n",
       "      <td>Truck</td>\n",
       "      <td>...</td>\n",
       "      <td>60</td>\n",
       "      <td>21072</td>\n",
       "      <td>137389.44</td>\n",
       "      <td>6.52</td>\n",
       "      <td>0.11</td>\n",
       "      <td>Hetero Unit III Hyderabad IN</td>\n",
       "      <td>No</td>\n",
       "      <td>See DN-4313 (ID#:83921)</td>\n",
       "      <td>See DN-4313 (ID#:83921)</td>\n",
       "      <td>161.71</td>\n",
       "    </tr>\n",
       "    <tr>\n",
       "      <th>10321</th>\n",
       "      <td>86821</td>\n",
       "      <td>110-ZM-T30</td>\n",
       "      <td>FPQ-14784</td>\n",
       "      <td>SO-49600</td>\n",
       "      <td>DN-4316</td>\n",
       "      <td>Zambia</td>\n",
       "      <td>PMO - US</td>\n",
       "      <td>From RDC</td>\n",
       "      <td>N/A - From RDC</td>\n",
       "      <td>Truck</td>\n",
       "      <td>...</td>\n",
       "      <td>30</td>\n",
       "      <td>514526</td>\n",
       "      <td>5140114.74</td>\n",
       "      <td>9.99</td>\n",
       "      <td>0.33</td>\n",
       "      <td>Cipla Ltd A-42 MIDC Mahar. IN</td>\n",
       "      <td>No</td>\n",
       "      <td>Weight Captured Separately</td>\n",
       "      <td>Freight Included in Commodity Cost</td>\n",
       "      <td>5284.04</td>\n",
       "    </tr>\n",
       "    <tr>\n",
       "      <th>10322</th>\n",
       "      <td>86822</td>\n",
       "      <td>200-ZW-T30</td>\n",
       "      <td>FPQ-16523</td>\n",
       "      <td>SO-51680</td>\n",
       "      <td>DN-4334</td>\n",
       "      <td>Zimbabwe</td>\n",
       "      <td>PMO - US</td>\n",
       "      <td>From RDC</td>\n",
       "      <td>N/A - From RDC</td>\n",
       "      <td>Truck</td>\n",
       "      <td>...</td>\n",
       "      <td>60</td>\n",
       "      <td>17465</td>\n",
       "      <td>113871.80</td>\n",
       "      <td>6.52</td>\n",
       "      <td>0.11</td>\n",
       "      <td>Mylan (formerly Matrix) Nashik</td>\n",
       "      <td>Yes</td>\n",
       "      <td>1392</td>\n",
       "      <td>Freight Included in Commodity Cost</td>\n",
       "      <td>134.03</td>\n",
       "    </tr>\n",
       "    <tr>\n",
       "      <th>10323</th>\n",
       "      <td>86823</td>\n",
       "      <td>103-ZW-T30</td>\n",
       "      <td>FPQ-15197</td>\n",
       "      <td>SO-50022</td>\n",
       "      <td>DN-4336</td>\n",
       "      <td>Zimbabwe</td>\n",
       "      <td>PMO - US</td>\n",
       "      <td>From RDC</td>\n",
       "      <td>N/A - From RDC</td>\n",
       "      <td>Truck</td>\n",
       "      <td>...</td>\n",
       "      <td>60</td>\n",
       "      <td>36639</td>\n",
       "      <td>72911.61</td>\n",
       "      <td>1.99</td>\n",
       "      <td>0.03</td>\n",
       "      <td>Cipla, Goa, India</td>\n",
       "      <td>No</td>\n",
       "      <td>Weight Captured Separately</td>\n",
       "      <td>Freight Included in Commodity Cost</td>\n",
       "      <td>85.82</td>\n",
       "    </tr>\n",
       "  </tbody>\n",
       "</table>\n",
       "<p>5 rows × 33 columns</p>\n",
       "</div>"
      ],
      "text/plain": [
       "          ID Project Code       PQ # PO / SO # ASN/DN #        Country  \\\n",
       "10319  86818   103-ZW-T30  FPQ-15197  SO-50020  DN-4307       Zimbabwe   \n",
       "10320  86819   104-CI-T30  FPQ-15259  SO-50102  DN-4313  Côte d'Ivoire   \n",
       "10321  86821   110-ZM-T30  FPQ-14784  SO-49600  DN-4316         Zambia   \n",
       "10322  86822   200-ZW-T30  FPQ-16523  SO-51680  DN-4334       Zimbabwe   \n",
       "10323  86823   103-ZW-T30  FPQ-15197  SO-50022  DN-4336       Zimbabwe   \n",
       "\n",
       "      Managed By Fulfill Via Vendor INCO Term Shipment Mode  ...  \\\n",
       "10319   PMO - US    From RDC   N/A - From RDC         Truck  ...   \n",
       "10320   PMO - US    From RDC   N/A - From RDC         Truck  ...   \n",
       "10321   PMO - US    From RDC   N/A - From RDC         Truck  ...   \n",
       "10322   PMO - US    From RDC   N/A - From RDC         Truck  ...   \n",
       "10323   PMO - US    From RDC   N/A - From RDC         Truck  ...   \n",
       "\n",
       "      Unit of Measure (Per Pack) Line Item Quantity Line Item Value  \\\n",
       "10319                         60             166571       599655.60   \n",
       "10320                         60              21072       137389.44   \n",
       "10321                         30             514526      5140114.74   \n",
       "10322                         60              17465       113871.80   \n",
       "10323                         60              36639        72911.61   \n",
       "\n",
       "      Pack Price Unit Price              Manufacturing Site  \\\n",
       "10319       3.60       0.06      Mylan,  H-12 & H-13, India   \n",
       "10320       6.52       0.11    Hetero Unit III Hyderabad IN   \n",
       "10321       9.99       0.33   Cipla Ltd A-42 MIDC Mahar. IN   \n",
       "10322       6.52       0.11  Mylan (formerly Matrix) Nashik   \n",
       "10323       1.99       0.03               Cipla, Goa, India   \n",
       "\n",
       "      First Line Designation          Weight (Kilograms)  \\\n",
       "10319                     No     See DN-4307 (ID#:83920)   \n",
       "10320                     No     See DN-4313 (ID#:83921)   \n",
       "10321                     No  Weight Captured Separately   \n",
       "10322                    Yes                        1392   \n",
       "10323                     No  Weight Captured Separately   \n",
       "\n",
       "                       Freight Cost (USD) Line Item Insurance (USD)  \n",
       "10319             See DN-4307 (ID#:83920)                    705.79  \n",
       "10320             See DN-4313 (ID#:83921)                    161.71  \n",
       "10321  Freight Included in Commodity Cost                   5284.04  \n",
       "10322  Freight Included in Commodity Cost                    134.03  \n",
       "10323  Freight Included in Commodity Cost                     85.82  \n",
       "\n",
       "[5 rows x 33 columns]"
      ]
     },
     "execution_count": 5,
     "metadata": {},
     "output_type": "execute_result"
    }
   ],
   "source": [
    "df.tail()"
   ]
  },
  {
   "cell_type": "markdown",
   "id": "72f13a97",
   "metadata": {},
   "source": [
    "<h5>checking all columns names</h5>"
   ]
  },
  {
   "cell_type": "code",
   "execution_count": 6,
   "id": "202ceda8",
   "metadata": {},
   "outputs": [
    {
     "data": {
      "text/plain": [
       "Index(['ID', 'Project Code', 'PQ #', 'PO / SO #', 'ASN/DN #', 'Country',\n",
       "       'Managed By', 'Fulfill Via', 'Vendor INCO Term', 'Shipment Mode',\n",
       "       'PQ First Sent to Client Date', 'PO Sent to Vendor Date',\n",
       "       'Scheduled Delivery Date', 'Delivered to Client Date',\n",
       "       'Delivery Recorded Date', 'Product Group', 'Sub Classification',\n",
       "       'Vendor', 'Item Description', 'Molecule/Test Type', 'Brand', 'Dosage',\n",
       "       'Dosage Form', 'Unit of Measure (Per Pack)', 'Line Item Quantity',\n",
       "       'Line Item Value', 'Pack Price', 'Unit Price', 'Manufacturing Site',\n",
       "       'First Line Designation', 'Weight (Kilograms)', 'Freight Cost (USD)',\n",
       "       'Line Item Insurance (USD)'],\n",
       "      dtype='object')"
      ]
     },
     "execution_count": 6,
     "metadata": {},
     "output_type": "execute_result"
    }
   ],
   "source": [
    "df.columns"
   ]
  },
  {
   "cell_type": "code",
   "execution_count": 7,
   "id": "db76825d",
   "metadata": {},
   "outputs": [
    {
     "name": "stdout",
     "output_type": "stream",
     "text": [
      "<class 'pandas.core.frame.DataFrame'>\n",
      "RangeIndex: 10324 entries, 0 to 10323\n",
      "Data columns (total 33 columns):\n",
      " #   Column                        Non-Null Count  Dtype  \n",
      "---  ------                        --------------  -----  \n",
      " 0   ID                            10324 non-null  int64  \n",
      " 1   Project Code                  10324 non-null  object \n",
      " 2   PQ #                          10324 non-null  object \n",
      " 3   PO / SO #                     10324 non-null  object \n",
      " 4   ASN/DN #                      10324 non-null  object \n",
      " 5   Country                       10324 non-null  object \n",
      " 6   Managed By                    10324 non-null  object \n",
      " 7   Fulfill Via                   10324 non-null  object \n",
      " 8   Vendor INCO Term              10324 non-null  object \n",
      " 9   Shipment Mode                 9964 non-null   object \n",
      " 10  PQ First Sent to Client Date  10324 non-null  object \n",
      " 11  PO Sent to Vendor Date        10324 non-null  object \n",
      " 12  Scheduled Delivery Date       10324 non-null  object \n",
      " 13  Delivered to Client Date      10324 non-null  object \n",
      " 14  Delivery Recorded Date        10324 non-null  object \n",
      " 15  Product Group                 10324 non-null  object \n",
      " 16  Sub Classification            10324 non-null  object \n",
      " 17  Vendor                        10324 non-null  object \n",
      " 18  Item Description              10324 non-null  object \n",
      " 19  Molecule/Test Type            10324 non-null  object \n",
      " 20  Brand                         10324 non-null  object \n",
      " 21  Dosage                        8588 non-null   object \n",
      " 22  Dosage Form                   10324 non-null  object \n",
      " 23  Unit of Measure (Per Pack)    10324 non-null  int64  \n",
      " 24  Line Item Quantity            10324 non-null  int64  \n",
      " 25  Line Item Value               10324 non-null  float64\n",
      " 26  Pack Price                    10324 non-null  float64\n",
      " 27  Unit Price                    10324 non-null  float64\n",
      " 28  Manufacturing Site            10324 non-null  object \n",
      " 29  First Line Designation        10324 non-null  object \n",
      " 30  Weight (Kilograms)            10324 non-null  object \n",
      " 31  Freight Cost (USD)            10324 non-null  object \n",
      " 32  Line Item Insurance (USD)     10037 non-null  float64\n",
      "dtypes: float64(4), int64(3), object(26)\n",
      "memory usage: 2.6+ MB\n"
     ]
    }
   ],
   "source": [
    "df.info()"
   ]
  },
  {
   "cell_type": "markdown",
   "id": "94c8ae23",
   "metadata": {},
   "source": [
    "<h5>checking null values</h5>"
   ]
  },
  {
   "cell_type": "code",
   "execution_count": 8,
   "id": "8a683884",
   "metadata": {},
   "outputs": [
    {
     "data": {
      "text/plain": [
       "ID                                 0\n",
       "Project Code                       0\n",
       "PQ #                               0\n",
       "PO / SO #                          0\n",
       "ASN/DN #                           0\n",
       "Country                            0\n",
       "Managed By                         0\n",
       "Fulfill Via                        0\n",
       "Vendor INCO Term                   0\n",
       "Shipment Mode                    360\n",
       "PQ First Sent to Client Date       0\n",
       "PO Sent to Vendor Date             0\n",
       "Scheduled Delivery Date            0\n",
       "Delivered to Client Date           0\n",
       "Delivery Recorded Date             0\n",
       "Product Group                      0\n",
       "Sub Classification                 0\n",
       "Vendor                             0\n",
       "Item Description                   0\n",
       "Molecule/Test Type                 0\n",
       "Brand                              0\n",
       "Dosage                          1736\n",
       "Dosage Form                        0\n",
       "Unit of Measure (Per Pack)         0\n",
       "Line Item Quantity                 0\n",
       "Line Item Value                    0\n",
       "Pack Price                         0\n",
       "Unit Price                         0\n",
       "Manufacturing Site                 0\n",
       "First Line Designation             0\n",
       "Weight (Kilograms)                 0\n",
       "Freight Cost (USD)                 0\n",
       "Line Item Insurance (USD)        287\n",
       "dtype: int64"
      ]
     },
     "execution_count": 8,
     "metadata": {},
     "output_type": "execute_result"
    }
   ],
   "source": [
    "df.isnull().sum()"
   ]
  },
  {
   "cell_type": "markdown",
   "id": "9fda8973",
   "metadata": {},
   "source": [
    "<h5>Droping null values</h5>"
   ]
  },
  {
   "cell_type": "code",
   "execution_count": 9,
   "id": "c862d045",
   "metadata": {},
   "outputs": [],
   "source": [
    "df = df.dropna()"
   ]
  },
  {
   "cell_type": "markdown",
   "id": "6b806e77",
   "metadata": {},
   "source": [
    "<h5>Checking again all the null value is deleted from the dataset</h5>"
   ]
  },
  {
   "cell_type": "code",
   "execution_count": 10,
   "id": "54c06cbf",
   "metadata": {},
   "outputs": [
    {
     "data": {
      "text/plain": [
       "ID                              0\n",
       "Project Code                    0\n",
       "PQ #                            0\n",
       "PO / SO #                       0\n",
       "ASN/DN #                        0\n",
       "Country                         0\n",
       "Managed By                      0\n",
       "Fulfill Via                     0\n",
       "Vendor INCO Term                0\n",
       "Shipment Mode                   0\n",
       "PQ First Sent to Client Date    0\n",
       "PO Sent to Vendor Date          0\n",
       "Scheduled Delivery Date         0\n",
       "Delivered to Client Date        0\n",
       "Delivery Recorded Date          0\n",
       "Product Group                   0\n",
       "Sub Classification              0\n",
       "Vendor                          0\n",
       "Item Description                0\n",
       "Molecule/Test Type              0\n",
       "Brand                           0\n",
       "Dosage                          0\n",
       "Dosage Form                     0\n",
       "Unit of Measure (Per Pack)      0\n",
       "Line Item Quantity              0\n",
       "Line Item Value                 0\n",
       "Pack Price                      0\n",
       "Unit Price                      0\n",
       "Manufacturing Site              0\n",
       "First Line Designation          0\n",
       "Weight (Kilograms)              0\n",
       "Freight Cost (USD)              0\n",
       "Line Item Insurance (USD)       0\n",
       "dtype: int64"
      ]
     },
     "execution_count": 10,
     "metadata": {},
     "output_type": "execute_result"
    }
   ],
   "source": [
    "df.isnull().sum()"
   ]
  },
  {
   "cell_type": "markdown",
   "id": "69867bf0",
   "metadata": {},
   "source": [
    "<h5>Checking Duplicate rows</h5>"
   ]
  },
  {
   "cell_type": "code",
   "execution_count": 11,
   "id": "e0f914e0",
   "metadata": {},
   "outputs": [
    {
     "data": {
      "text/plain": [
       "0"
      ]
     },
     "execution_count": 11,
     "metadata": {},
     "output_type": "execute_result"
    }
   ],
   "source": [
    "df.duplicated().sum()"
   ]
  },
  {
   "cell_type": "markdown",
   "id": "1db34cdb",
   "metadata": {},
   "source": [
    "<p> We have all unique value in our dataset</p>"
   ]
  },
  {
   "cell_type": "markdown",
   "id": "5f61b72e",
   "metadata": {},
   "source": [
    "<h5>Checking datatypes of each column</h5>"
   ]
  },
  {
   "cell_type": "code",
   "execution_count": 12,
   "id": "320aa9e8",
   "metadata": {},
   "outputs": [
    {
     "data": {
      "text/plain": [
       "ID                                int64\n",
       "Project Code                     object\n",
       "PQ #                             object\n",
       "PO / SO #                        object\n",
       "ASN/DN #                         object\n",
       "Country                          object\n",
       "Managed By                       object\n",
       "Fulfill Via                      object\n",
       "Vendor INCO Term                 object\n",
       "Shipment Mode                    object\n",
       "PQ First Sent to Client Date     object\n",
       "PO Sent to Vendor Date           object\n",
       "Scheduled Delivery Date          object\n",
       "Delivered to Client Date         object\n",
       "Delivery Recorded Date           object\n",
       "Product Group                    object\n",
       "Sub Classification               object\n",
       "Vendor                           object\n",
       "Item Description                 object\n",
       "Molecule/Test Type               object\n",
       "Brand                            object\n",
       "Dosage                           object\n",
       "Dosage Form                      object\n",
       "Unit of Measure (Per Pack)        int64\n",
       "Line Item Quantity                int64\n",
       "Line Item Value                 float64\n",
       "Pack Price                      float64\n",
       "Unit Price                      float64\n",
       "Manufacturing Site               object\n",
       "First Line Designation           object\n",
       "Weight (Kilograms)               object\n",
       "Freight Cost (USD)               object\n",
       "Line Item Insurance (USD)       float64\n",
       "dtype: object"
      ]
     },
     "execution_count": 12,
     "metadata": {},
     "output_type": "execute_result"
    }
   ],
   "source": [
    "df.dtypes"
   ]
  },
  {
   "cell_type": "markdown",
   "id": "dd09114a",
   "metadata": {},
   "source": [
    "<h5>Statistics of the numeric column</h5>"
   ]
  },
  {
   "cell_type": "code",
   "execution_count": 13,
   "id": "ffe093cf",
   "metadata": {},
   "outputs": [
    {
     "data": {
      "text/html": [
       "<div>\n",
       "<style scoped>\n",
       "    .dataframe tbody tr th:only-of-type {\n",
       "        vertical-align: middle;\n",
       "    }\n",
       "\n",
       "    .dataframe tbody tr th {\n",
       "        vertical-align: top;\n",
       "    }\n",
       "\n",
       "    .dataframe thead th {\n",
       "        text-align: right;\n",
       "    }\n",
       "</style>\n",
       "<table border=\"1\" class=\"dataframe\">\n",
       "  <thead>\n",
       "    <tr style=\"text-align: right;\">\n",
       "      <th></th>\n",
       "      <th>ID</th>\n",
       "      <th>Unit of Measure (Per Pack)</th>\n",
       "      <th>Line Item Quantity</th>\n",
       "      <th>Line Item Value</th>\n",
       "      <th>Pack Price</th>\n",
       "      <th>Unit Price</th>\n",
       "      <th>Line Item Insurance (USD)</th>\n",
       "    </tr>\n",
       "  </thead>\n",
       "  <tbody>\n",
       "    <tr>\n",
       "      <th>count</th>\n",
       "      <td>8158.000000</td>\n",
       "      <td>8158.000000</td>\n",
       "      <td>8158.000000</td>\n",
       "      <td>8.158000e+03</td>\n",
       "      <td>8158.000000</td>\n",
       "      <td>8158.000000</td>\n",
       "      <td>8158.000000</td>\n",
       "    </tr>\n",
       "    <tr>\n",
       "      <th>mean</th>\n",
       "      <td>56644.616573</td>\n",
       "      <td>80.203972</td>\n",
       "      <td>22091.348492</td>\n",
       "      <td>1.670237e+05</td>\n",
       "      <td>12.408811</td>\n",
       "      <td>0.212851</td>\n",
       "      <td>251.326639</td>\n",
       "    </tr>\n",
       "    <tr>\n",
       "      <th>std</th>\n",
       "      <td>31253.921647</td>\n",
       "      <td>81.296579</td>\n",
       "      <td>43990.580533</td>\n",
       "      <td>3.758129e+05</td>\n",
       "      <td>17.059437</td>\n",
       "      <td>0.285822</td>\n",
       "      <td>536.131657</td>\n",
       "    </tr>\n",
       "    <tr>\n",
       "      <th>min</th>\n",
       "      <td>108.000000</td>\n",
       "      <td>5.000000</td>\n",
       "      <td>1.000000</td>\n",
       "      <td>0.000000e+00</td>\n",
       "      <td>0.000000</td>\n",
       "      <td>0.000000</td>\n",
       "      <td>0.000000</td>\n",
       "    </tr>\n",
       "    <tr>\n",
       "      <th>25%</th>\n",
       "      <td>21990.250000</td>\n",
       "      <td>30.000000</td>\n",
       "      <td>560.000000</td>\n",
       "      <td>4.221860e+03</td>\n",
       "      <td>3.500000</td>\n",
       "      <td>0.060000</td>\n",
       "      <td>6.500000</td>\n",
       "    </tr>\n",
       "    <tr>\n",
       "      <th>50%</th>\n",
       "      <td>73486.000000</td>\n",
       "      <td>60.000000</td>\n",
       "      <td>4427.500000</td>\n",
       "      <td>2.934300e+04</td>\n",
       "      <td>7.645000</td>\n",
       "      <td>0.140000</td>\n",
       "      <td>45.545000</td>\n",
       "    </tr>\n",
       "    <tr>\n",
       "      <th>75%</th>\n",
       "      <td>84306.750000</td>\n",
       "      <td>60.000000</td>\n",
       "      <td>24096.750000</td>\n",
       "      <td>1.640927e+05</td>\n",
       "      <td>13.247500</td>\n",
       "      <td>0.260000</td>\n",
       "      <td>239.757500</td>\n",
       "    </tr>\n",
       "    <tr>\n",
       "      <th>max</th>\n",
       "      <td>86823.000000</td>\n",
       "      <td>1000.000000</td>\n",
       "      <td>619999.000000</td>\n",
       "      <td>5.951990e+06</td>\n",
       "      <td>306.880000</td>\n",
       "      <td>14.040000</td>\n",
       "      <td>7708.440000</td>\n",
       "    </tr>\n",
       "  </tbody>\n",
       "</table>\n",
       "</div>"
      ],
      "text/plain": [
       "                 ID  Unit of Measure (Per Pack)  Line Item Quantity  \\\n",
       "count   8158.000000                 8158.000000         8158.000000   \n",
       "mean   56644.616573                   80.203972        22091.348492   \n",
       "std    31253.921647                   81.296579        43990.580533   \n",
       "min      108.000000                    5.000000            1.000000   \n",
       "25%    21990.250000                   30.000000          560.000000   \n",
       "50%    73486.000000                   60.000000         4427.500000   \n",
       "75%    84306.750000                   60.000000        24096.750000   \n",
       "max    86823.000000                 1000.000000       619999.000000   \n",
       "\n",
       "       Line Item Value   Pack Price   Unit Price  Line Item Insurance (USD)  \n",
       "count     8.158000e+03  8158.000000  8158.000000                8158.000000  \n",
       "mean      1.670237e+05    12.408811     0.212851                 251.326639  \n",
       "std       3.758129e+05    17.059437     0.285822                 536.131657  \n",
       "min       0.000000e+00     0.000000     0.000000                   0.000000  \n",
       "25%       4.221860e+03     3.500000     0.060000                   6.500000  \n",
       "50%       2.934300e+04     7.645000     0.140000                  45.545000  \n",
       "75%       1.640927e+05    13.247500     0.260000                 239.757500  \n",
       "max       5.951990e+06   306.880000    14.040000                7708.440000  "
      ]
     },
     "execution_count": 13,
     "metadata": {},
     "output_type": "execute_result"
    }
   ],
   "source": [
    "df.describe()"
   ]
  },
  {
   "cell_type": "markdown",
   "id": "5e9ee0b2",
   "metadata": {},
   "source": [
    "<h5>Unique Country Names</h5>"
   ]
  },
  {
   "cell_type": "code",
   "execution_count": 14,
   "id": "48e8e70d",
   "metadata": {},
   "outputs": [
    {
     "data": {
      "text/plain": [
       "array([\"Côte d'Ivoire\", 'Vietnam', 'Ethiopia', 'South Africa', 'Tanzania',\n",
       "       'Nigeria', 'Haiti', 'Rwanda', 'Uganda', 'Namibia', 'Guyana',\n",
       "       'Zambia', 'Mozambique', 'Zimbabwe', 'Swaziland', 'Ghana',\n",
       "       'Lebanon', 'Kenya', 'Dominican Republic', 'Malawi', 'Congo, DRC',\n",
       "       'Benin', 'Cameroon', 'Guatemala', 'Togo', 'Angola', 'Afghanistan',\n",
       "       'Burkina Faso', 'South Sudan', 'Senegal', 'Botswana', 'Burundi',\n",
       "       'Libya', 'Belize'], dtype=object)"
      ]
     },
     "execution_count": 14,
     "metadata": {},
     "output_type": "execute_result"
    }
   ],
   "source": [
    "df['Country'].unique()"
   ]
  },
  {
   "cell_type": "markdown",
   "id": "28952293",
   "metadata": {},
   "source": [
    "<h5>Unique Shipment Mode</h5>"
   ]
  },
  {
   "cell_type": "code",
   "execution_count": 15,
   "id": "98d0e9be",
   "metadata": {},
   "outputs": [
    {
     "data": {
      "text/plain": [
       "array(['Air', 'Truck', 'Air Charter', 'Ocean'], dtype=object)"
      ]
     },
     "execution_count": 15,
     "metadata": {},
     "output_type": "execute_result"
    }
   ],
   "source": [
    "df['Shipment Mode'].unique()"
   ]
  },
  {
   "cell_type": "markdown",
   "id": "0dcbd673",
   "metadata": {},
   "source": [
    "<h3>Exploratory Data Analysis</h3>"
   ]
  },
  {
   "cell_type": "markdown",
   "id": "12cf2434",
   "metadata": {},
   "source": [
    "<h5>Data Labels function</h5>"
   ]
  },
  {
   "cell_type": "code",
   "execution_count": 16,
   "id": "88200780",
   "metadata": {},
   "outputs": [],
   "source": [
    "def show_values(axs, orient=\"v\", space=.01):\n",
    "    def _single(ax):\n",
    "        if orient == \"v\":\n",
    "            for p in ax.patches:\n",
    "                _x = p.get_x() + p.get_width() / 2\n",
    "                _y = p.get_y() + p.get_height() + (p.get_height()*0.01)\n",
    "                value = '{:.1f}'.format(p.get_height())\n",
    "                ax.text(_x, _y, value, ha=\"center\") \n",
    "        elif orient == \"h\":\n",
    "            for p in ax.patches:\n",
    "                _x = p.get_x() + p.get_width() + float(space)\n",
    "                _y = p.get_y() + p.get_height() - (p.get_height()*0.5)\n",
    "                value = '{:.1f}'.format(p.get_width())\n",
    "                ax.text(_x, _y, value, ha=\"left\")\n",
    "\n",
    "    if isinstance(axs, np.ndarray):\n",
    "        for idx, ax in np.ndenumerate(axs):\n",
    "            _single(ax)\n",
    "    else:\n",
    "        _single(axs)"
   ]
  },
  {
   "cell_type": "markdown",
   "id": "ea1567a4",
   "metadata": {},
   "source": [
    "<h5>Top 10 countries Wise Count</h5>"
   ]
  },
  {
   "cell_type": "code",
   "execution_count": 17,
   "id": "fe41ab02",
   "metadata": {},
   "outputs": [],
   "source": [
    "df_Country = df['Country'].value_counts().reset_index().head(10)"
   ]
  },
  {
   "cell_type": "code",
   "execution_count": 18,
   "id": "ea0b9005",
   "metadata": {
    "scrolled": true
   },
   "outputs": [
    {
     "data": {
      "text/html": [
       "<div>\n",
       "<style scoped>\n",
       "    .dataframe tbody tr th:only-of-type {\n",
       "        vertical-align: middle;\n",
       "    }\n",
       "\n",
       "    .dataframe tbody tr th {\n",
       "        vertical-align: top;\n",
       "    }\n",
       "\n",
       "    .dataframe thead th {\n",
       "        text-align: right;\n",
       "    }\n",
       "</style>\n",
       "<table border=\"1\" class=\"dataframe\">\n",
       "  <thead>\n",
       "    <tr style=\"text-align: right;\">\n",
       "      <th></th>\n",
       "      <th>index</th>\n",
       "      <th>Country</th>\n",
       "    </tr>\n",
       "  </thead>\n",
       "  <tbody>\n",
       "    <tr>\n",
       "      <th>0</th>\n",
       "      <td>South Africa</td>\n",
       "      <td>1364</td>\n",
       "    </tr>\n",
       "    <tr>\n",
       "      <th>1</th>\n",
       "      <td>Nigeria</td>\n",
       "      <td>952</td>\n",
       "    </tr>\n",
       "    <tr>\n",
       "      <th>2</th>\n",
       "      <td>Côte d'Ivoire</td>\n",
       "      <td>827</td>\n",
       "    </tr>\n",
       "    <tr>\n",
       "      <th>3</th>\n",
       "      <td>Uganda</td>\n",
       "      <td>724</td>\n",
       "    </tr>\n",
       "    <tr>\n",
       "      <th>4</th>\n",
       "      <td>Vietnam</td>\n",
       "      <td>661</td>\n",
       "    </tr>\n",
       "    <tr>\n",
       "      <th>5</th>\n",
       "      <td>Haiti</td>\n",
       "      <td>549</td>\n",
       "    </tr>\n",
       "    <tr>\n",
       "      <th>6</th>\n",
       "      <td>Mozambique</td>\n",
       "      <td>506</td>\n",
       "    </tr>\n",
       "    <tr>\n",
       "      <th>7</th>\n",
       "      <td>Zimbabwe</td>\n",
       "      <td>471</td>\n",
       "    </tr>\n",
       "    <tr>\n",
       "      <th>8</th>\n",
       "      <td>Zambia</td>\n",
       "      <td>470</td>\n",
       "    </tr>\n",
       "    <tr>\n",
       "      <th>9</th>\n",
       "      <td>Tanzania</td>\n",
       "      <td>374</td>\n",
       "    </tr>\n",
       "  </tbody>\n",
       "</table>\n",
       "</div>"
      ],
      "text/plain": [
       "           index  Country\n",
       "0   South Africa     1364\n",
       "1        Nigeria      952\n",
       "2  Côte d'Ivoire      827\n",
       "3         Uganda      724\n",
       "4        Vietnam      661\n",
       "5          Haiti      549\n",
       "6     Mozambique      506\n",
       "7       Zimbabwe      471\n",
       "8         Zambia      470\n",
       "9       Tanzania      374"
      ]
     },
     "execution_count": 18,
     "metadata": {},
     "output_type": "execute_result"
    }
   ],
   "source": [
    "df_Country"
   ]
  },
  {
   "cell_type": "code",
   "execution_count": 19,
   "id": "299ac4ec",
   "metadata": {},
   "outputs": [
    {
     "data": {
      "image/png": "[encoded data removed]",
      "text/plain": [
       "<Figure size 864x576 with 1 Axes>"
      ]
     },
     "metadata": {
      "needs_background": "light"
     },
     "output_type": "display_data"
    }
   ],
   "source": [
    "plt.figure(figsize=(12,8))\n",
    "p=sns.barplot(x= df_Country['index'], y=df_Country['Country'],color='#89bedc',ci=None)\n",
    "plt.title('Top 10 country wise count',fontsize=15,weight='bold')\n",
    "plt.xlabel('Country Names',fontsize=13)\n",
    "plt.ylabel('Count',fontsize=13)\n",
    "sns.despine()\n",
    "show_values(p)\n",
    "plt.show()"
   ]
  },
  {
   "cell_type": "markdown",
   "id": "fba13fb8",
   "metadata": {},
   "source": [
    "<h3>Total Pack Price for Top 15 Countries with graph</h3>"
   ]
  },
  {
   "cell_type": "code",
   "execution_count": 20,
   "id": "1c65ec09",
   "metadata": {},
   "outputs": [],
   "source": [
    "df_pack_price = df.groupby('Country')['Pack Price'].sum().nlargest(15).reset_index()"
   ]
  },
  {
   "cell_type": "code",
   "execution_count": 21,
   "id": "8e105fe0",
   "metadata": {},
   "outputs": [
    {
     "data": {
      "text/html": [
       "<div>\n",
       "<style scoped>\n",
       "    .dataframe tbody tr th:only-of-type {\n",
       "        vertical-align: middle;\n",
       "    }\n",
       "\n",
       "    .dataframe tbody tr th {\n",
       "        vertical-align: top;\n",
       "    }\n",
       "\n",
       "    .dataframe thead th {\n",
       "        text-align: right;\n",
       "    }\n",
       "</style>\n",
       "<table border=\"1\" class=\"dataframe\">\n",
       "  <thead>\n",
       "    <tr style=\"text-align: right;\">\n",
       "      <th></th>\n",
       "      <th>Country</th>\n",
       "      <th>Pack Price</th>\n",
       "    </tr>\n",
       "  </thead>\n",
       "  <tbody>\n",
       "    <tr>\n",
       "      <th>0</th>\n",
       "      <td>South Africa</td>\n",
       "      <td>23479.74</td>\n",
       "    </tr>\n",
       "    <tr>\n",
       "      <th>1</th>\n",
       "      <td>Vietnam</td>\n",
       "      <td>11015.11</td>\n",
       "    </tr>\n",
       "    <tr>\n",
       "      <th>2</th>\n",
       "      <td>Nigeria</td>\n",
       "      <td>10293.74</td>\n",
       "    </tr>\n",
       "    <tr>\n",
       "      <th>3</th>\n",
       "      <td>Côte d'Ivoire</td>\n",
       "      <td>10174.96</td>\n",
       "    </tr>\n",
       "    <tr>\n",
       "      <th>4</th>\n",
       "      <td>Uganda</td>\n",
       "      <td>9781.99</td>\n",
       "    </tr>\n",
       "    <tr>\n",
       "      <th>5</th>\n",
       "      <td>Mozambique</td>\n",
       "      <td>5782.10</td>\n",
       "    </tr>\n",
       "    <tr>\n",
       "      <th>6</th>\n",
       "      <td>Haiti</td>\n",
       "      <td>5029.42</td>\n",
       "    </tr>\n",
       "    <tr>\n",
       "      <th>7</th>\n",
       "      <td>Tanzania</td>\n",
       "      <td>4727.47</td>\n",
       "    </tr>\n",
       "    <tr>\n",
       "      <th>8</th>\n",
       "      <td>Zambia</td>\n",
       "      <td>3780.12</td>\n",
       "    </tr>\n",
       "    <tr>\n",
       "      <th>9</th>\n",
       "      <td>Rwanda</td>\n",
       "      <td>3721.67</td>\n",
       "    </tr>\n",
       "    <tr>\n",
       "      <th>10</th>\n",
       "      <td>Zimbabwe</td>\n",
       "      <td>3359.62</td>\n",
       "    </tr>\n",
       "    <tr>\n",
       "      <th>11</th>\n",
       "      <td>Guyana</td>\n",
       "      <td>2209.95</td>\n",
       "    </tr>\n",
       "    <tr>\n",
       "      <th>12</th>\n",
       "      <td>Congo, DRC</td>\n",
       "      <td>2148.15</td>\n",
       "    </tr>\n",
       "    <tr>\n",
       "      <th>13</th>\n",
       "      <td>Ethiopia</td>\n",
       "      <td>1202.37</td>\n",
       "    </tr>\n",
       "    <tr>\n",
       "      <th>14</th>\n",
       "      <td>Dominican Republic</td>\n",
       "      <td>1089.23</td>\n",
       "    </tr>\n",
       "  </tbody>\n",
       "</table>\n",
       "</div>"
      ],
      "text/plain": [
       "               Country  Pack Price\n",
       "0         South Africa    23479.74\n",
       "1              Vietnam    11015.11\n",
       "2              Nigeria    10293.74\n",
       "3        Côte d'Ivoire    10174.96\n",
       "4               Uganda     9781.99\n",
       "5           Mozambique     5782.10\n",
       "6                Haiti     5029.42\n",
       "7             Tanzania     4727.47\n",
       "8               Zambia     3780.12\n",
       "9               Rwanda     3721.67\n",
       "10            Zimbabwe     3359.62\n",
       "11              Guyana     2209.95\n",
       "12          Congo, DRC     2148.15\n",
       "13            Ethiopia     1202.37\n",
       "14  Dominican Republic     1089.23"
      ]
     },
     "execution_count": 21,
     "metadata": {},
     "output_type": "execute_result"
    }
   ],
   "source": [
    "df_pack_price"
   ]
  },
  {
   "cell_type": "code",
   "execution_count": 22,
   "id": "1660e4f7",
   "metadata": {},
   "outputs": [
    {
     "data": {
      "image/png": "[encoded data removed]",
      "text/plain": [
       "<Figure size 864x576 with 1 Axes>"
      ]
     },
     "metadata": {
      "needs_background": "light"
     },
     "output_type": "display_data"
    }
   ],
   "source": [
    "plt.figure(figsize=(12,8))\n",
    "p=sns.barplot(x= df_pack_price['Pack Price'], y=df_pack_price['Country'],color='#bad6eb',ci=None)\n",
    "plt.title('Total Pack Price for Top 15 country',fontsize=15,weight='bold')\n",
    "plt.xlabel('Total Pack Price',fontsize=13)\n",
    "plt.ylabel('Country',fontsize=13)\n",
    "sns.despine()\n",
    "show_values(p,\"h\",space=0)\n",
    "plt.show()"
   ]
  },
  {
   "cell_type": "markdown",
   "id": "7f287278",
   "metadata": {},
   "source": [
    "<h3>First Line Designation Wise Count</h3>"
   ]
  },
  {
   "cell_type": "code",
   "execution_count": 23,
   "id": "1042d20e",
   "metadata": {},
   "outputs": [
    {
     "data": {
      "text/html": [
       "<div>\n",
       "<style scoped>\n",
       "    .dataframe tbody tr th:only-of-type {\n",
       "        vertical-align: middle;\n",
       "    }\n",
       "\n",
       "    .dataframe tbody tr th {\n",
       "        vertical-align: top;\n",
       "    }\n",
       "\n",
       "    .dataframe thead th {\n",
       "        text-align: right;\n",
       "    }\n",
       "</style>\n",
       "<table border=\"1\" class=\"dataframe\">\n",
       "  <thead>\n",
       "    <tr style=\"text-align: right;\">\n",
       "      <th></th>\n",
       "      <th>ID</th>\n",
       "      <th>Project Code</th>\n",
       "      <th>PQ #</th>\n",
       "      <th>PO / SO #</th>\n",
       "      <th>ASN/DN #</th>\n",
       "      <th>Country</th>\n",
       "      <th>Managed By</th>\n",
       "      <th>Fulfill Via</th>\n",
       "      <th>Vendor INCO Term</th>\n",
       "      <th>Shipment Mode</th>\n",
       "      <th>...</th>\n",
       "      <th>Unit of Measure (Per Pack)</th>\n",
       "      <th>Line Item Quantity</th>\n",
       "      <th>Line Item Value</th>\n",
       "      <th>Pack Price</th>\n",
       "      <th>Unit Price</th>\n",
       "      <th>Manufacturing Site</th>\n",
       "      <th>First Line Designation</th>\n",
       "      <th>Weight (Kilograms)</th>\n",
       "      <th>Freight Cost (USD)</th>\n",
       "      <th>Line Item Insurance (USD)</th>\n",
       "    </tr>\n",
       "  </thead>\n",
       "  <tbody>\n",
       "    <tr>\n",
       "      <th>21</th>\n",
       "      <td>108</td>\n",
       "      <td>104-CI-T01</td>\n",
       "      <td>Pre-PQ Process</td>\n",
       "      <td>SCMS-698</td>\n",
       "      <td>ASN-727</td>\n",
       "      <td>Côte d'Ivoire</td>\n",
       "      <td>PMO - US</td>\n",
       "      <td>Direct Drop</td>\n",
       "      <td>CIP</td>\n",
       "      <td>Air</td>\n",
       "      <td>...</td>\n",
       "      <td>60</td>\n",
       "      <td>5513</td>\n",
       "      <td>140581.5</td>\n",
       "      <td>25.50</td>\n",
       "      <td>0.42</td>\n",
       "      <td>BMS Meymac, France</td>\n",
       "      <td>Yes</td>\n",
       "      <td>2126</td>\n",
       "      <td>Freight Included in Commodity Cost</td>\n",
       "      <td>224.93</td>\n",
       "    </tr>\n",
       "    <tr>\n",
       "      <th>22</th>\n",
       "      <td>115</td>\n",
       "      <td>108-VN-T01</td>\n",
       "      <td>Pre-PQ Process</td>\n",
       "      <td>SCMS-753</td>\n",
       "      <td>ASN-781</td>\n",
       "      <td>Vietnam</td>\n",
       "      <td>PMO - US</td>\n",
       "      <td>Direct Drop</td>\n",
       "      <td>EXW</td>\n",
       "      <td>Air</td>\n",
       "      <td>...</td>\n",
       "      <td>240</td>\n",
       "      <td>1000</td>\n",
       "      <td>1920.0</td>\n",
       "      <td>1.92</td>\n",
       "      <td>0.01</td>\n",
       "      <td>Aurobindo Unit III, India</td>\n",
       "      <td>Yes</td>\n",
       "      <td>941</td>\n",
       "      <td>4193.49</td>\n",
       "      <td>3.07</td>\n",
       "    </tr>\n",
       "    <tr>\n",
       "      <th>23</th>\n",
       "      <td>116</td>\n",
       "      <td>108-VN-T01</td>\n",
       "      <td>Pre-PQ Process</td>\n",
       "      <td>SCMS-759</td>\n",
       "      <td>ASN-632</td>\n",
       "      <td>Vietnam</td>\n",
       "      <td>PMO - US</td>\n",
       "      <td>Direct Drop</td>\n",
       "      <td>FCA</td>\n",
       "      <td>Air</td>\n",
       "      <td>...</td>\n",
       "      <td>120</td>\n",
       "      <td>500</td>\n",
       "      <td>41095.0</td>\n",
       "      <td>82.19</td>\n",
       "      <td>0.68</td>\n",
       "      <td>ABBVIE Ludwigshafen Germany</td>\n",
       "      <td>Yes</td>\n",
       "      <td>117</td>\n",
       "      <td>1767.38</td>\n",
       "      <td>65.75</td>\n",
       "    </tr>\n",
       "    <tr>\n",
       "      <th>29</th>\n",
       "      <td>161</td>\n",
       "      <td>117-ET-T01</td>\n",
       "      <td>Pre-PQ Process</td>\n",
       "      <td>SCMS-11070</td>\n",
       "      <td>ASN-916</td>\n",
       "      <td>Ethiopia</td>\n",
       "      <td>PMO - US</td>\n",
       "      <td>Direct Drop</td>\n",
       "      <td>EXW</td>\n",
       "      <td>Air</td>\n",
       "      <td>...</td>\n",
       "      <td>60</td>\n",
       "      <td>64000</td>\n",
       "      <td>99200.0</td>\n",
       "      <td>1.55</td>\n",
       "      <td>0.03</td>\n",
       "      <td>Aurobindo Unit III, India</td>\n",
       "      <td>Yes</td>\n",
       "      <td>4228</td>\n",
       "      <td>12237.61</td>\n",
       "      <td>158.72</td>\n",
       "    </tr>\n",
       "    <tr>\n",
       "      <th>32</th>\n",
       "      <td>269</td>\n",
       "      <td>108-VN-T01</td>\n",
       "      <td>Pre-PQ Process</td>\n",
       "      <td>SCMS-14190</td>\n",
       "      <td>ASN-1192</td>\n",
       "      <td>Vietnam</td>\n",
       "      <td>PMO - US</td>\n",
       "      <td>Direct Drop</td>\n",
       "      <td>EXW</td>\n",
       "      <td>Air</td>\n",
       "      <td>...</td>\n",
       "      <td>30</td>\n",
       "      <td>1000</td>\n",
       "      <td>17000.0</td>\n",
       "      <td>17.00</td>\n",
       "      <td>0.57</td>\n",
       "      <td>Gilead(Nycomed) Oranienburg DE</td>\n",
       "      <td>Yes</td>\n",
       "      <td>76</td>\n",
       "      <td>2282.57</td>\n",
       "      <td>27.20</td>\n",
       "    </tr>\n",
       "  </tbody>\n",
       "</table>\n",
       "<p>5 rows × 33 columns</p>\n",
       "</div>"
      ],
      "text/plain": [
       "     ID Project Code            PQ #   PO / SO #  ASN/DN #        Country  \\\n",
       "21  108   104-CI-T01  Pre-PQ Process    SCMS-698   ASN-727  Côte d'Ivoire   \n",
       "22  115   108-VN-T01  Pre-PQ Process    SCMS-753   ASN-781        Vietnam   \n",
       "23  116   108-VN-T01  Pre-PQ Process    SCMS-759   ASN-632        Vietnam   \n",
       "29  161   117-ET-T01  Pre-PQ Process  SCMS-11070   ASN-916       Ethiopia   \n",
       "32  269   108-VN-T01  Pre-PQ Process  SCMS-14190  ASN-1192        Vietnam   \n",
       "\n",
       "   Managed By  Fulfill Via Vendor INCO Term Shipment Mode  ...  \\\n",
       "21   PMO - US  Direct Drop              CIP           Air  ...   \n",
       "22   PMO - US  Direct Drop              EXW           Air  ...   \n",
       "23   PMO - US  Direct Drop              FCA           Air  ...   \n",
       "29   PMO - US  Direct Drop              EXW           Air  ...   \n",
       "32   PMO - US  Direct Drop              EXW           Air  ...   \n",
       "\n",
       "   Unit of Measure (Per Pack) Line Item Quantity Line Item Value Pack Price  \\\n",
       "21                         60               5513        140581.5      25.50   \n",
       "22                        240               1000          1920.0       1.92   \n",
       "23                        120                500         41095.0      82.19   \n",
       "29                         60              64000         99200.0       1.55   \n",
       "32                         30               1000         17000.0      17.00   \n",
       "\n",
       "   Unit Price              Manufacturing Site First Line Designation  \\\n",
       "21       0.42              BMS Meymac, France                    Yes   \n",
       "22       0.01       Aurobindo Unit III, India                    Yes   \n",
       "23       0.68     ABBVIE Ludwigshafen Germany                    Yes   \n",
       "29       0.03       Aurobindo Unit III, India                    Yes   \n",
       "32       0.57  Gilead(Nycomed) Oranienburg DE                    Yes   \n",
       "\n",
       "   Weight (Kilograms)                  Freight Cost (USD)  \\\n",
       "21               2126  Freight Included in Commodity Cost   \n",
       "22                941                             4193.49   \n",
       "23                117                             1767.38   \n",
       "29               4228                            12237.61   \n",
       "32                 76                             2282.57   \n",
       "\n",
       "   Line Item Insurance (USD)  \n",
       "21                    224.93  \n",
       "22                      3.07  \n",
       "23                     65.75  \n",
       "29                    158.72  \n",
       "32                     27.20  \n",
       "\n",
       "[5 rows x 33 columns]"
      ]
     },
     "execution_count": 23,
     "metadata": {},
     "output_type": "execute_result"
    }
   ],
   "source": [
    "df.head()"
   ]
  },
  {
   "cell_type": "code",
   "execution_count": 24,
   "id": "68ba36c4",
   "metadata": {},
   "outputs": [],
   "source": [
    "df_first_line = df['First Line Designation'].value_counts().reset_index()"
   ]
  },
  {
   "cell_type": "code",
   "execution_count": 25,
   "id": "e08125a3",
   "metadata": {},
   "outputs": [
    {
     "data": {
      "text/html": [
       "<div>\n",
       "<style scoped>\n",
       "    .dataframe tbody tr th:only-of-type {\n",
       "        vertical-align: middle;\n",
       "    }\n",
       "\n",
       "    .dataframe tbody tr th {\n",
       "        vertical-align: top;\n",
       "    }\n",
       "\n",
       "    .dataframe thead th {\n",
       "        text-align: right;\n",
       "    }\n",
       "</style>\n",
       "<table border=\"1\" class=\"dataframe\">\n",
       "  <thead>\n",
       "    <tr style=\"text-align: right;\">\n",
       "      <th></th>\n",
       "      <th>index</th>\n",
       "      <th>First Line Designation</th>\n",
       "    </tr>\n",
       "  </thead>\n",
       "  <tbody>\n",
       "    <tr>\n",
       "      <th>0</th>\n",
       "      <td>Yes</td>\n",
       "      <td>5242</td>\n",
       "    </tr>\n",
       "    <tr>\n",
       "      <th>1</th>\n",
       "      <td>No</td>\n",
       "      <td>2916</td>\n",
       "    </tr>\n",
       "  </tbody>\n",
       "</table>\n",
       "</div>"
      ],
      "text/plain": [
       "  index  First Line Designation\n",
       "0   Yes                    5242\n",
       "1    No                    2916"
      ]
     },
     "execution_count": 25,
     "metadata": {},
     "output_type": "execute_result"
    }
   ],
   "source": [
    "df_first_line"
   ]
  },
  {
   "cell_type": "code",
   "execution_count": 26,
   "id": "fecb759a",
   "metadata": {},
   "outputs": [
    {
     "data": {
      "image/png": "[encoded data removed]",
      "text/plain": [
       "<Figure size 432x288 with 1 Axes>"
      ]
     },
     "metadata": {
      "needs_background": "light"
     },
     "output_type": "display_data"
    }
   ],
   "source": [
    "plt.figure(figsize=(6,4))\n",
    "p=sns.barplot(x= df_first_line['index'], y=df_first_line['First Line Designation'],color='#89bedc',ci=None)\n",
    "plt.title('First Line Designation Wise Count',fontsize=13,weight='bold')\n",
    "plt.xlabel('First Line Destination',fontsize=11)\n",
    "plt.ylabel('Total Count',fontsize=11)\n",
    "sns.despine()\n",
    "show_values(p)\n",
    "plt.show()"
   ]
  },
  {
   "cell_type": "markdown",
   "id": "34ba0b98",
   "metadata": {},
   "source": [
    "<h3>Shipment Mode percentage wise Pie Chart</h3>"
   ]
  },
  {
   "cell_type": "markdown",
   "id": "1551264e",
   "metadata": {},
   "source": [
    "<p>['#dbe9f6', '#bad6eb', '#89bedc', '#539ecd', '#2b7bba', '#0b559f']</P>"
   ]
  },
  {
   "cell_type": "code",
   "execution_count": 27,
   "id": "112c3989",
   "metadata": {},
   "outputs": [],
   "source": [
    "df_shipment = df['Shipment Mode'].value_counts()"
   ]
  },
  {
   "cell_type": "code",
   "execution_count": 28,
   "id": "02aeae5e",
   "metadata": {},
   "outputs": [
    {
     "data": {
      "text/plain": [
       "Air            4361\n",
       "Truck          2780\n",
       "Air Charter     650\n",
       "Ocean           367\n",
       "Name: Shipment Mode, dtype: int64"
      ]
     },
     "execution_count": 28,
     "metadata": {},
     "output_type": "execute_result"
    }
   ],
   "source": [
    "df_shipment"
   ]
  },
  {
   "cell_type": "code",
   "execution_count": 29,
   "id": "2e729486",
   "metadata": {},
   "outputs": [
    {
     "data": {
      "image/png": "[encoded data removed]",
      "text/plain": [
       "<Figure size 720x576 with 1 Axes>"
      ]
     },
     "metadata": {},
     "output_type": "display_data"
    }
   ],
   "source": [
    "plt.figure(figsize=(10,8))\n",
    "plt.pie(df_shipment,labels=df_shipment.index,autopct='%1.1f%%',\n",
    "       colors=['#dbe9f6', '#89bedc',  '#0b559f', '#2b7bba'],\n",
    "       textprops={'size':'x-large','fontweight':'bold','rotation':'30','color':'w'},\n",
    "       startangle=150,shadow=True)\n",
    "plt.title('Shipment Mode percentage wise',fontsize=14,weight='bold')\n",
    "plt.legend()\n",
    "plt.show()"
   ]
  },
  {
   "cell_type": "markdown",
   "id": "3d05e12c",
   "metadata": {},
   "source": [
    "<h3>Unique Manufacturing Site Names</h3>"
   ]
  },
  {
   "cell_type": "code",
   "execution_count": 30,
   "id": "e55e1b45",
   "metadata": {},
   "outputs": [],
   "source": [
    "man = df['Manufacturing Site'].unique()"
   ]
  },
  {
   "cell_type": "code",
   "execution_count": 31,
   "id": "2e57db03",
   "metadata": {},
   "outputs": [
    {
     "name": "stdout",
     "output_type": "stream",
     "text": [
      "1 Manufacturing Site Name : BMS Meymac, France\n",
      "2 Manufacturing Site Name : Aurobindo Unit III, India\n",
      "3 Manufacturing Site Name : ABBVIE Ludwigshafen Germany\n",
      "4 Manufacturing Site Name : Gilead(Nycomed) Oranienburg DE\n",
      "5 Manufacturing Site Name : Ranbaxy, Paonta Shahib, India\n",
      "6 Manufacturing Site Name : Mylan (formerly Matrix) Nashik\n",
      "7 Manufacturing Site Name : Roche Basel\n",
      "8 Manufacturing Site Name : GSK Ware (UK)\n",
      "9 Manufacturing Site Name : Novartis Pharma AG, Switzerland\n",
      "10 Manufacturing Site Name : BI, Ingelheim, Germany\n",
      "11 Manufacturing Site Name : Ipca Dadra/Nagar Haveli IN\n",
      "12 Manufacturing Site Name : MSD, Haarlem, NL\n",
      "13 Manufacturing Site Name : Aspen-OSD, Port Elizabeth, SA\n",
      "14 Manufacturing Site Name : ABBVIE (Abbott) Logis. UK\n",
      "15 Manufacturing Site Name : Gland Pharma Ltd Pally Factory\n",
      "16 Manufacturing Site Name : Cipla, Goa, India\n",
      "17 Manufacturing Site Name : GSK Mississauga (Canada)\n",
      "18 Manufacturing Site Name : GSK Aranda\n",
      "19 Manufacturing Site Name : Hetero Unit III Hyderabad IN\n",
      "20 Manufacturing Site Name : ABBVIE (Abbott) France\n",
      "21 Manufacturing Site Name : Strides, Bangalore, India.\n",
      "22 Manufacturing Site Name : GSK Cape Town Factory (South Africa)\n",
      "23 Manufacturing Site Name : MSD Midrand, J'burg, SA\n",
      "24 Manufacturing Site Name : Boehringer Ing., Koropi, GR\n",
      "25 Manufacturing Site Name : GSK Crawley\n",
      "26 Manufacturing Site Name : Novartis Pharma Suffern, USA\n",
      "27 Manufacturing Site Name : Micro Labs Ltd. (Brown & Burk), India\n",
      "28 Manufacturing Site Name : Meditab (for Cipla) Daman IN\n",
      "29 Manufacturing Site Name : Medopharm Malur Factory, INDIA\n",
      "30 Manufacturing Site Name : Weifa A.S., Hausmanngt. 6, P.O. Box 9113 GrÃ¸nland, 0133, Oslo, Norway\n",
      "31 Manufacturing Site Name : MSD Manati, Puerto Rico, (USA)\n",
      "32 Manufacturing Site Name : Emcure Plot No.P-2, I.T-B.T. Park, Phase II, MIDC, Hinjwadi, Pune, India\n",
      "33 Manufacturing Site Name : MSD Elkton USA\n",
      "34 Manufacturing Site Name : ABBVIE Labs North Chicago US\n",
      "35 Manufacturing Site Name : Janssen-Cilag, Latina, IT\n",
      "36 Manufacturing Site Name : Aurobindo Unit VII, IN\n",
      "37 Manufacturing Site Name : Micro labs, Verna, Goa, India\n",
      "38 Manufacturing Site Name : Mylan,  H-12 & H-13, India\n",
      "39 Manufacturing Site Name : Hetero, Jadcherla, unit 5, IN\n",
      "40 Manufacturing Site Name : Roche Madrid\n",
      "41 Manufacturing Site Name : Bristol-Myers Squibb Anagni IT\n",
      "42 Manufacturing Site Name : Cipla Ltd A-42 MIDC Mahar. IN\n",
      "43 Manufacturing Site Name : Medochemie Factory A, CY\n",
      "44 Manufacturing Site Name : Boehringer Ingelheim Roxane US\n",
      "45 Manufacturing Site Name : BMS Evansville, US\n",
      "46 Manufacturing Site Name : GSK, U1, Poznan, Poland\n",
      "47 Manufacturing Site Name : Janssen Ortho LLC, Puerto Rico\n",
      "48 Manufacturing Site Name : ABBVIE (Abbott) St. P'burg USA\n",
      "49 Manufacturing Site Name : Micro Labs, Hosur, India\n",
      "50 Manufacturing Site Name : Cipla, Patalganga, India\n",
      "51 Manufacturing Site Name : Remedica, Limassol, Cyprus\n",
      "52 Manufacturing Site Name : Guilin OSD site, No 17, China\n",
      "53 Manufacturing Site Name : Cipla, Kurkumbh, India\n",
      "54 Manufacturing Site Name : GSK Barnard Castle UK\n",
      "55 Manufacturing Site Name : Gland Pharma, Hyderabad, IN\n",
      "56 Manufacturing Site Name : MSD Patheon, Canada\n",
      "57 Manufacturing Site Name : Mepro Pharm Wadhwan Unit II\n",
      "58 Manufacturing Site Name : Ranbaxy per Shasun Pharma Ltd\n",
      "59 Manufacturing Site Name : Ranbaxy per Shasun Pharma\n",
      "60 Manufacturing Site Name : Macleods Daman Plant INDIA\n"
     ]
    }
   ],
   "source": [
    "for i in range(len(man)):\n",
    "    print(i+1,'Manufacturing Site Name :',man[i])"
   ]
  },
  {
   "cell_type": "markdown",
   "id": "7b58206c",
   "metadata": {},
   "source": [
    "<h3>Top 10 Manufacturing Site for all Shipment Mode with Graph</h3>"
   ]
  },
  {
   "cell_type": "code",
   "execution_count": 32,
   "id": "66e1e98c",
   "metadata": {},
   "outputs": [],
   "source": [
    "df_manuf = df['Manufacturing Site'].value_counts().nlargest(10).reset_index()"
   ]
  },
  {
   "cell_type": "code",
   "execution_count": 33,
   "id": "7b71f313",
   "metadata": {},
   "outputs": [
    {
     "data": {
      "text/html": [
       "<div>\n",
       "<style scoped>\n",
       "    .dataframe tbody tr th:only-of-type {\n",
       "        vertical-align: middle;\n",
       "    }\n",
       "\n",
       "    .dataframe tbody tr th {\n",
       "        vertical-align: top;\n",
       "    }\n",
       "\n",
       "    .dataframe thead th {\n",
       "        text-align: right;\n",
       "    }\n",
       "</style>\n",
       "<table border=\"1\" class=\"dataframe\">\n",
       "  <thead>\n",
       "    <tr style=\"text-align: right;\">\n",
       "      <th></th>\n",
       "      <th>index</th>\n",
       "      <th>Manufacturing Site</th>\n",
       "    </tr>\n",
       "  </thead>\n",
       "  <tbody>\n",
       "    <tr>\n",
       "      <th>0</th>\n",
       "      <td>Aurobindo Unit III, India</td>\n",
       "      <td>2978</td>\n",
       "    </tr>\n",
       "    <tr>\n",
       "      <th>1</th>\n",
       "      <td>Mylan (formerly Matrix) Nashik</td>\n",
       "      <td>1407</td>\n",
       "    </tr>\n",
       "    <tr>\n",
       "      <th>2</th>\n",
       "      <td>Hetero Unit III Hyderabad IN</td>\n",
       "      <td>868</td>\n",
       "    </tr>\n",
       "    <tr>\n",
       "      <th>3</th>\n",
       "      <td>Cipla, Goa, India</td>\n",
       "      <td>624</td>\n",
       "    </tr>\n",
       "    <tr>\n",
       "      <th>4</th>\n",
       "      <td>Strides, Bangalore, India.</td>\n",
       "      <td>528</td>\n",
       "    </tr>\n",
       "    <tr>\n",
       "      <th>5</th>\n",
       "      <td>ABBVIE Ludwigshafen Germany</td>\n",
       "      <td>350</td>\n",
       "    </tr>\n",
       "    <tr>\n",
       "      <th>6</th>\n",
       "      <td>ABBVIE (Abbott) Logis. UK</td>\n",
       "      <td>204</td>\n",
       "    </tr>\n",
       "    <tr>\n",
       "      <th>7</th>\n",
       "      <td>BMS Meymac, France</td>\n",
       "      <td>129</td>\n",
       "    </tr>\n",
       "    <tr>\n",
       "      <th>8</th>\n",
       "      <td>Aspen-OSD, Port Elizabeth, SA</td>\n",
       "      <td>125</td>\n",
       "    </tr>\n",
       "    <tr>\n",
       "      <th>9</th>\n",
       "      <td>MSD, Haarlem, NL</td>\n",
       "      <td>117</td>\n",
       "    </tr>\n",
       "  </tbody>\n",
       "</table>\n",
       "</div>"
      ],
      "text/plain": [
       "                            index  Manufacturing Site\n",
       "0       Aurobindo Unit III, India                2978\n",
       "1  Mylan (formerly Matrix) Nashik                1407\n",
       "2    Hetero Unit III Hyderabad IN                 868\n",
       "3               Cipla, Goa, India                 624\n",
       "4      Strides, Bangalore, India.                 528\n",
       "5     ABBVIE Ludwigshafen Germany                 350\n",
       "6       ABBVIE (Abbott) Logis. UK                 204\n",
       "7              BMS Meymac, France                 129\n",
       "8   Aspen-OSD, Port Elizabeth, SA                 125\n",
       "9                MSD, Haarlem, NL                 117"
      ]
     },
     "execution_count": 33,
     "metadata": {},
     "output_type": "execute_result"
    }
   ],
   "source": [
    "df_manuf"
   ]
  },
  {
   "cell_type": "code",
   "execution_count": 34,
   "id": "e3cfcb78",
   "metadata": {},
   "outputs": [
    {
     "data": {
      "image/png": "[encoded data removed]",
      "text/plain": [
       "<Figure size 936x576 with 1 Axes>"
      ]
     },
     "metadata": {
      "needs_background": "light"
     },
     "output_type": "display_data"
    }
   ],
   "source": [
    "plt.figure(figsize=(13,8))\n",
    "p=sns.barplot(x= df_manuf['index'], y=df_manuf['Manufacturing Site'],color='#539ecd',ci=None)\n",
    "plt.title('Top 10 Manufacturing Site',fontsize=15,weight='bold')\n",
    "plt.xlabel('Manufacturing Site',fontsize=13)\n",
    "plt.xticks(rotation=90)\n",
    "plt.ylabel('Count',fontsize=13)\n",
    "sns.despine()\n",
    "show_values(p)\n",
    "plt.show()"
   ]
  },
  {
   "cell_type": "markdown",
   "id": "9ed083ac",
   "metadata": {},
   "source": [
    "<h3>Top 10 Manufacturing Site for Air Shipment Mode with Graph</h3>"
   ]
  },
  {
   "cell_type": "code",
   "execution_count": 35,
   "id": "53638c38",
   "metadata": {},
   "outputs": [],
   "source": [
    "df_air = df[df['Shipment Mode'] == 'Air']"
   ]
  },
  {
   "cell_type": "code",
   "execution_count": 36,
   "id": "eff2ec3a",
   "metadata": {},
   "outputs": [],
   "source": [
    "df_manuf1 = df_air['Manufacturing Site'].value_counts().nlargest(10).reset_index()"
   ]
  },
  {
   "cell_type": "code",
   "execution_count": 37,
   "id": "94041802",
   "metadata": {},
   "outputs": [
    {
     "data": {
      "text/html": [
       "<div>\n",
       "<style scoped>\n",
       "    .dataframe tbody tr th:only-of-type {\n",
       "        vertical-align: middle;\n",
       "    }\n",
       "\n",
       "    .dataframe tbody tr th {\n",
       "        vertical-align: top;\n",
       "    }\n",
       "\n",
       "    .dataframe thead th {\n",
       "        text-align: right;\n",
       "    }\n",
       "</style>\n",
       "<table border=\"1\" class=\"dataframe\">\n",
       "  <thead>\n",
       "    <tr style=\"text-align: right;\">\n",
       "      <th></th>\n",
       "      <th>index</th>\n",
       "      <th>Manufacturing Site</th>\n",
       "    </tr>\n",
       "  </thead>\n",
       "  <tbody>\n",
       "    <tr>\n",
       "      <th>0</th>\n",
       "      <td>Aurobindo Unit III, India</td>\n",
       "      <td>1641</td>\n",
       "    </tr>\n",
       "    <tr>\n",
       "      <th>1</th>\n",
       "      <td>Mylan (formerly Matrix) Nashik</td>\n",
       "      <td>695</td>\n",
       "    </tr>\n",
       "    <tr>\n",
       "      <th>2</th>\n",
       "      <td>Hetero Unit III Hyderabad IN</td>\n",
       "      <td>417</td>\n",
       "    </tr>\n",
       "    <tr>\n",
       "      <th>3</th>\n",
       "      <td>ABBVIE Ludwigshafen Germany</td>\n",
       "      <td>281</td>\n",
       "    </tr>\n",
       "    <tr>\n",
       "      <th>4</th>\n",
       "      <td>Cipla, Goa, India</td>\n",
       "      <td>264</td>\n",
       "    </tr>\n",
       "    <tr>\n",
       "      <th>5</th>\n",
       "      <td>Strides, Bangalore, India.</td>\n",
       "      <td>251</td>\n",
       "    </tr>\n",
       "    <tr>\n",
       "      <th>6</th>\n",
       "      <td>ABBVIE (Abbott) Logis. UK</td>\n",
       "      <td>147</td>\n",
       "    </tr>\n",
       "    <tr>\n",
       "      <th>7</th>\n",
       "      <td>MSD, Haarlem, NL</td>\n",
       "      <td>90</td>\n",
       "    </tr>\n",
       "    <tr>\n",
       "      <th>8</th>\n",
       "      <td>BMS Meymac, France</td>\n",
       "      <td>83</td>\n",
       "    </tr>\n",
       "    <tr>\n",
       "      <th>9</th>\n",
       "      <td>Aspen-OSD, Port Elizabeth, SA</td>\n",
       "      <td>80</td>\n",
       "    </tr>\n",
       "  </tbody>\n",
       "</table>\n",
       "</div>"
      ],
      "text/plain": [
       "                            index  Manufacturing Site\n",
       "0       Aurobindo Unit III, India                1641\n",
       "1  Mylan (formerly Matrix) Nashik                 695\n",
       "2    Hetero Unit III Hyderabad IN                 417\n",
       "3     ABBVIE Ludwigshafen Germany                 281\n",
       "4               Cipla, Goa, India                 264\n",
       "5      Strides, Bangalore, India.                 251\n",
       "6       ABBVIE (Abbott) Logis. UK                 147\n",
       "7                MSD, Haarlem, NL                  90\n",
       "8              BMS Meymac, France                  83\n",
       "9   Aspen-OSD, Port Elizabeth, SA                  80"
      ]
     },
     "execution_count": 37,
     "metadata": {},
     "output_type": "execute_result"
    }
   ],
   "source": [
    "df_manuf1"
   ]
  },
  {
   "cell_type": "code",
   "execution_count": 38,
   "id": "f3398671",
   "metadata": {},
   "outputs": [
    {
     "data": {
      "image/png": "[encoded data removed]",
      "text/plain": [
       "<Figure size 936x576 with 1 Axes>"
      ]
     },
     "metadata": {
      "needs_background": "light"
     },
     "output_type": "display_data"
    }
   ],
   "source": [
    "plt.figure(figsize=(13,8))\n",
    "p=sns.barplot(x= df_manuf1['index'], y=df_manuf1['Manufacturing Site'],color='#dbe9f6',ci=None)\n",
    "plt.title('Top 10 Manufacturing Site Air Shipment Mode',fontsize=15,weight='bold')\n",
    "plt.xlabel('Manufacturing Site',fontsize=13)\n",
    "plt.xticks(rotation=90)\n",
    "plt.ylabel('Count',fontsize=13)\n",
    "sns.despine()\n",
    "show_values(p)\n",
    "plt.show()"
   ]
  },
  {
   "cell_type": "markdown",
   "id": "a58ca49f",
   "metadata": {},
   "source": [
    "<h3>Shipment Max, Min and Mean value for Air</h3>"
   ]
  },
  {
   "cell_type": "code",
   "execution_count": 39,
   "id": "1f923995",
   "metadata": {},
   "outputs": [
    {
     "name": "stdout",
     "output_type": "stream",
     "text": [
      "The Max Air Shipment Mode is : 1000\n",
      "The Min Air Shipment is : 5\n",
      "The Mean Air Shipment is : 89.33\n"
     ]
    }
   ],
   "source": [
    "print (\"The Max Air Shipment Mode is :\",df_air['Unit of Measure (Per Pack)'].max())\n",
    "print (\"The Min Air Shipment is :\",df_air['Unit of Measure (Per Pack)'].min())\n",
    "ItemTypeMean = df_air['Unit of Measure (Per Pack)'].mean()\n",
    "print (\"The Mean Air Shipment is :\", round(ItemTypeMean,2))"
   ]
  },
  {
   "cell_type": "markdown",
   "id": "345938a2",
   "metadata": {},
   "source": [
    "<h3>Shipment Mode and Pack Price in Bar Plot Graph</h3>"
   ]
  },
  {
   "cell_type": "code",
   "execution_count": 40,
   "id": "5491ca84",
   "metadata": {},
   "outputs": [
    {
     "data": {
      "image/png": "[encoded data removed]",
      "text/plain": [
       "<Figure size 720x432 with 1 Axes>"
      ]
     },
     "metadata": {
      "needs_background": "light"
     },
     "output_type": "display_data"
    }
   ],
   "source": [
    "plt.figure(figsize=(10,6))\n",
    "sns.barplot(x=df['Shipment Mode'],y=df['Pack Price'],color='#bad6eb')\n",
    "plt.title('Shipment Mode by Pack price',fontsize=12,weight='bold')\n",
    "sns.despine()\n",
    "plt.show()"
   ]
  },
  {
   "cell_type": "code",
   "execution_count": null,
   "id": "8cd3176f",
   "metadata": {},
   "outputs": [],
   "source": []
  },
  {
   "cell_type": "code",
   "execution_count": null,
   "id": "075f39d9",
   "metadata": {},
   "outputs": [],
   "source": []
  },
  {
   "cell_type": "code",
   "execution_count": null,
   "id": "8e99f81f",
   "metadata": {},
   "outputs": [],
   "source": []
  }
 ],
 "metadata": {
  "kernelspec": {
   "display_name": "Python 3 (ipykernel)",
   "language": "python",
   "name": "python3"
  },
  "language_info": {
   "codemirror_mode": {
    "name": "ipython",
    "version": 3
   },
   "file_extension": ".py",
   "mimetype": "text/x-python",
   "name": "python",
   "nbconvert_exporter": "python",
   "pygments_lexer": "ipython3",
   "version": "3.9.7"
  }
 },
 "nbformat": 4,
 "nbformat_minor": 5
}
